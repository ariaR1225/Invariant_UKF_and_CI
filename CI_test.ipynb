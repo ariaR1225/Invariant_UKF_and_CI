{
 "cells": [
  {
   "cell_type": "code",
   "execution_count": 1,
   "id": "5f649c33-1089-4155-b066-c47239acbcde",
   "metadata": {},
   "outputs": [],
   "source": [
    "import numpy as np\n",
    "from numpy import random"
   ]
  },
  {
   "cell_type": "code",
   "execution_count": 6,
   "id": "b1768e36-152b-4033-be38-6baa8bde447b",
   "metadata": {},
   "outputs": [],
   "source": [
    "X_r = random.random((3,3))\n",
    "X_s = random.random((8,3,3))"
   ]
  },
  {
   "cell_type": "code",
   "execution_count": 22,
   "id": "ba2071b4-8679-4138-9e0e-8225e11db1e0",
   "metadata": {},
   "outputs": [],
   "source": [
    "def cov_mat(X):\n",
    "    n_samples = X.shape[0]\n",
    "    print(n_samples)\n",
    "    cov_matrices = np.zeros((n_samples, 3, 3))\n",
    "    \n",
    "    for i in range(n_samples):\n",
    "        matrix = X[i]\n",
    "        mean_col = np.mean(matrix, axis=0)\n",
    "        centered_matrix = matrix - mean_col\n",
    "        cov_matrix = np.dot(centered_matrix.T, centered_matrix) / (centered_matrix.shape[0])\n",
    "        cov_matrices[i] = cov_matrix\n",
    "    \n",
    "    return cov_matrices"
   ]
  },
  {
   "cell_type": "code",
   "execution_count": 24,
   "id": "597f1c9d-c2fe-41a2-b625-74081b53b7e0",
   "metadata": {},
   "outputs": [
    {
     "name": "stdout",
     "output_type": "stream",
     "text": [
      "8\n"
     ]
    },
    {
     "data": {
      "text/plain": [
       "(8, 3, 3)"
      ]
     },
     "execution_count": 24,
     "metadata": {},
     "output_type": "execute_result"
    }
   ],
   "source": [
    "P_s = cov_mat(X_s)\n",
    "P_s.shape"
   ]
  },
  {
   "cell_type": "code",
   "execution_count": 25,
   "id": "91e5253d-e001-4e8d-bedf-5a3c24cfb758",
   "metadata": {},
   "outputs": [],
   "source": [
    "weights = np.zeros(8)\n",
    "den = 0\n",
    "\n",
    "for i in range(8):\n",
    "    cov = P_s[i]\n",
    "    den += 1/np.trace(cov)\n",
    "for i in range(8):\n",
    "    cov = P_s[i]\n",
    "    num = 1/np.trace(cov)\n",
    "    weights[i] = num/den"
   ]
  },
  {
   "cell_type": "code",
   "execution_count": 26,
   "id": "dcaaa3d0-49cd-4be6-9af5-a74b0d367a3d",
   "metadata": {},
   "outputs": [],
   "source": [
    "p = np.zeros((3,3))\n",
    "for i in range(8):\n",
    "    p += weights[i] * np.linalg.pinv(P_s[i])\n",
    "P_int_r = np.linalg.pinv(p)"
   ]
  },
  {
   "cell_type": "code",
   "execution_count": 33,
   "id": "7052caa4-5b67-4aa6-aa07-fa83b6cdd7e4",
   "metadata": {},
   "outputs": [
    {
     "name": "stdout",
     "output_type": "stream",
     "text": [
      "[[-5.61257333e-01             nan -3.19284699e-03]\n",
      " [            nan  2.11478559e-04  1.95564246e-01]\n",
      " [            nan  3.40234004e-02 -9.06349806e-02]]\n",
      "[[        nan         nan  0.19459499]\n",
      " [        nan         nan  0.18860892]\n",
      " [        nan  0.20881972 -0.15524589]]\n",
      "[[        nan         nan  0.38010045]\n",
      " [        nan         nan -0.00760329]\n",
      " [        nan  2.02794218  0.11721133]]\n",
      "[[       nan        nan        nan]\n",
      " [       nan        nan 0.05681395]\n",
      " [       nan 2.07148378 0.12423857]]\n",
      "[[         nan          nan          nan]\n",
      " [         nan          nan  12.13444024]\n",
      " [         nan 210.60611458 -67.47530974]]\n",
      "[[         nan          nan          nan]\n",
      " [         nan          nan  10.79977526]\n",
      " [         nan 210.65474708 -67.59655704]]\n",
      "[[         nan          nan          nan]\n",
      " [         nan          nan  14.8291223 ]\n",
      " [         nan 220.89445952 -75.45913001]]\n",
      "[[         nan          nan          nan]\n",
      " [         nan          nan  12.94342537]\n",
      " [         nan 212.27249666 -75.45501891]]\n"
     ]
    },
    {
     "name": "stderr",
     "output_type": "stream",
     "text": [
      "C:\\Users\\ZHIRUAN\\AppData\\Local\\Temp\\ipykernel_19340\\2044643832.py:3: RuntimeWarning: invalid value encountered in log\n",
      "  z += weights[i] * np.linalg.pinv(P_s[i]) * np.log(X_s[i] @ np.linalg.pinv(X_r))\n"
     ]
    }
   ],
   "source": [
    "z = np.zeros((3,3))\n",
    "for i in range(8):\n",
    "    z += weights[i] * np.linalg.pinv(P_s[i]) * np.log(X_s[i] @ np.linalg.pinv(X_r))\n",
    "    print(z)\n",
    "Z_int_r = P_int_r @ z"
   ]
  },
  {
   "cell_type": "code",
   "execution_count": 35,
   "id": "ce2fd611-dbf5-4d33-b124-95bec13d008d",
   "metadata": {},
   "outputs": [],
   "source": [
    "X_est_r = np.exp(Z_int_r) @ X_r"
   ]
  },
  {
   "cell_type": "code",
   "execution_count": null,
   "id": "54456343-291e-46c8-9cb3-5411c3358499",
   "metadata": {},
   "outputs": [],
   "source": []
  }
 ],
 "metadata": {
  "kernelspec": {
   "display_name": "Python 3 (ipykernel)",
   "language": "python",
   "name": "python3"
  },
  "language_info": {
   "codemirror_mode": {
    "name": "ipython",
    "version": 3
   },
   "file_extension": ".py",
   "mimetype": "text/x-python",
   "name": "python",
   "nbconvert_exporter": "python",
   "pygments_lexer": "ipython3",
   "version": "3.11.9"
  }
 },
 "nbformat": 4,
 "nbformat_minor": 5
}
