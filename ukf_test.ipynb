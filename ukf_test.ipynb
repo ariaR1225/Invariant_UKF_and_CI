{
 "cells": [
  {
   "cell_type": "code",
   "execution_count": 2,
   "metadata": {},
   "outputs": [],
   "source": [
    "import numpy as np"
   ]
  },
  {
   "cell_type": "code",
   "execution_count": 3,
   "metadata": {},
   "outputs": [],
   "source": [
    "n = 25  # Dimension of the state, if x is flattened from 5x5 to a 25x1 vector\n",
    "alpha = 1e-3  # Spread of sigma points\n",
    "beta = 2  # Optimal for Gaussian\n",
    "kappa = 0  # Secondary scaling parameter"
   ]
  },
  {
   "cell_type": "code",
   "execution_count": 15,
   "metadata": {},
   "outputs": [],
   "source": [
    "sigma_angle = 0.01  # Uncertainty in the rotation angles (radians)\n",
    "sigma_velocity = 0.1  # Uncertainty in velocity measurements (m/s)\n",
    "sigma_position = 0.2  # Uncertainty in position measurements (m)\n",
    "\n",
    "# Create the covariance blocks\n",
    "cov_R = np.eye(3) * sigma_angle**2  # Covariance for the rotation matrix part\n",
    "cov_vel = np.array([[sigma_velocity**2]])  # Covariance for the velocity vector\n",
    "cov_pos = np.array([[sigma_position**2]])  # Covariance for the position vector\n",
    "\n",
    "# Build the full covariance matrix\n",
    "P = np.block([\n",
    "    [cov_R, np.zeros((3, 1)), np.zeros((3, 1))],\n",
    "    [np.zeros((1, 3)), cov_vel, np.zeros((1, 1))],\n",
    "    [np.zeros((1, 3)), np.zeros((1, 1)), cov_pos]\n",
    "])"
   ]
  },
  {
   "cell_type": "code",
   "execution_count": 16,
   "metadata": {},
   "outputs": [
    {
     "data": {
      "text/plain": [
       "array([0.57802861, 0.47899822, 0.67893416, 0.4642958 , 0.18137207,\n",
       "       0.02726821, 0.40075167, 0.93475728, 0.76818049, 0.74104144,\n",
       "       0.25480988, 0.18268299, 0.64487857, 0.15821653, 0.75133149,\n",
       "       0.        , 0.        , 0.        , 1.        , 0.        ,\n",
       "       0.        , 0.        , 0.        , 0.        , 1.        ])"
      ]
     },
     "execution_count": 16,
     "metadata": {},
     "output_type": "execute_result"
    }
   ],
   "source": [
    "R_est = np.random.rand(3,3)\n",
    "vel_imu = np.random.rand(3)\n",
    "p_target = np.random.rand(3)\n",
    "obs_X = np.block([\n",
    "    [R_est, vel_imu[:, None], p_target[:, None]],\n",
    "    [np.zeros((1, 3)), 1, 0],\n",
    "    [np.zeros((1, 3)), 0, 1]\n",
    "]).flatten()\n",
    "obs_X"
   ]
  },
  {
   "cell_type": "code",
   "execution_count": 17,
   "metadata": {},
   "outputs": [],
   "source": [
    "_lambda = alpha**2 + (n + kappa) - n\n",
    "sigma_pts = np.zeros((2*n + 1, n))\n",
    "w_mean = np.zeros(2*n + 1)\n",
    "w_cov = np.zeros(2*n + 1)"
   ]
  },
  {
   "cell_type": "code",
   "execution_count": 18,
   "metadata": {},
   "outputs": [
    {
     "ename": "ValueError",
     "evalue": "operands could not be broadcast together with shapes (25,) (5,5) ",
     "output_type": "error",
     "traceback": [
      "\u001b[0;31m---------------------------------------------------------------------------\u001b[0m",
      "\u001b[0;31mValueError\u001b[0m                                Traceback (most recent call last)",
      "Cell \u001b[0;32mIn[18], line 11\u001b[0m\n\u001b[1;32m      9\u001b[0m     w_cov[i] \u001b[38;5;241m=\u001b[39m w_mean[i]\n\u001b[1;32m     10\u001b[0m \u001b[38;5;28;01mfor\u001b[39;00m i \u001b[38;5;129;01min\u001b[39;00m \u001b[38;5;28mrange\u001b[39m(\u001b[38;5;241m1\u001b[39m,n \u001b[38;5;241m+\u001b[39m \u001b[38;5;241m1\u001b[39m):\n\u001b[0;32m---> 11\u001b[0m     sigma_pts[i] \u001b[38;5;241m=\u001b[39m \u001b[43msigma_pts\u001b[49m\u001b[43m[\u001b[49m\u001b[38;5;241;43m0\u001b[39;49m\u001b[43m]\u001b[49m\u001b[43m \u001b[49m\u001b[38;5;241;43m+\u001b[39;49m\u001b[43m \u001b[49m\u001b[43mnp\u001b[49m\u001b[38;5;241;43m.\u001b[39;49m\u001b[43msqrt\u001b[49m\u001b[43m(\u001b[49m\u001b[43m(\u001b[49m\u001b[43mn\u001b[49m\u001b[43m \u001b[49m\u001b[38;5;241;43m+\u001b[39;49m\u001b[43m \u001b[49m\u001b[43m_lambda\u001b[49m\u001b[43m)\u001b[49m\u001b[38;5;241;43m*\u001b[39;49m\u001b[43mSig\u001b[49m\u001b[43m)\u001b[49m\n\u001b[1;32m     12\u001b[0m     sigma_pts[i \u001b[38;5;241m+\u001b[39m n] \u001b[38;5;241m=\u001b[39m sigma_pts[\u001b[38;5;241m0\u001b[39m] \u001b[38;5;241m-\u001b[39m np\u001b[38;5;241m.\u001b[39msqrt((n \u001b[38;5;241m+\u001b[39m _lambda)\u001b[38;5;241m*\u001b[39mSig)\n",
      "\u001b[0;31mValueError\u001b[0m: operands could not be broadcast together with shapes (25,) (5,5) "
     ]
    }
   ],
   "source": [
    "sigma_pts[0] = obs_X\n",
    "w_mean[0] = _lambda/(n + _lambda)\n",
    "w_cov[0] = w_mean[0] + (1 - alpha**2 + beta)\n",
    "\n",
    "Sig = np.linalg.cholesky((n + _lambda) * P)\n",
    "\n",
    "for i in range(1,2*n + 1):\n",
    "    w_mean[i] = 1/2/( + _lambda)\n",
    "    w_cov[i] = w_mean[i]\n",
    "for i in range(1,n + 1):\n",
    "    sigma_pts[i] = sigma_pts[0] + np.sqrt((n + _lambda)*Sig)\n",
    "    sigma_pts[i + n] = sigma_pts[0] - np.sqrt((n + _lambda)*Sig)"
   ]
  },
  {
   "cell_type": "code",
   "execution_count": null,
   "metadata": {},
   "outputs": [],
   "source": []
  },
  {
   "cell_type": "code",
   "execution_count": null,
   "metadata": {},
   "outputs": [],
   "source": []
  }
 ],
 "metadata": {
  "kernelspec": {
   "display_name": "ENV310",
   "language": "python",
   "name": "python3"
  },
  "language_info": {
   "codemirror_mode": {
    "name": "ipython",
    "version": 3
   },
   "file_extension": ".py",
   "mimetype": "text/x-python",
   "name": "python",
   "nbconvert_exporter": "python",
   "pygments_lexer": "ipython3",
   "version": "3.10.13"
  }
 },
 "nbformat": 4,
 "nbformat_minor": 2
}
