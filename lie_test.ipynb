{
 "cells": [
  {
   "cell_type": "code",
   "execution_count": 1,
   "metadata": {},
   "outputs": [
    {
     "name": "stdout",
     "output_type": "stream",
     "text": [
      "[[ 0.40004251  0.38739936  0.37475247 ...  0.4758369   0.43794173\n",
      "   0.40004259]\n",
      " [ 5.02706154  5.02904079  5.03100414 ... 15.07692441 15.07907832\n",
      "  15.08118461]\n",
      " [ 0.80008001  0.80008001  0.80008001 ...  0.80008001  0.80008001\n",
      "   0.80008001]]\n",
      "[[ 0.40004251  0.38739936  0.37475247 ...  0.4758369   0.43794173\n",
      "   0.40004259]\n",
      " [ 5.02706154  5.02904079  5.03100414 ... 15.07692441 15.07907832\n",
      "  15.08118461]\n",
      " [ 0.80008001  0.80008001  0.80008001 ...  0.80008001  0.80008001\n",
      "   0.80008001]]\n"
     ]
    },
    {
     "data": {
      "text/plain": [
       "array([10, 10, 10])"
      ]
     },
     "execution_count": 1,
     "metadata": {},
     "output_type": "execute_result"
    }
   ],
   "source": [
    "from trajectory import Trajectory\n",
    "from sensor import Sensors\n",
    "import numpy as np\n",
    "\n",
    "traj = Trajectory()\n",
    "sensors = Sensors()\n",
    "sensors.sensor_network[0].p"
   ]
  },
  {
   "cell_type": "code",
   "execution_count": 12,
   "metadata": {},
   "outputs": [],
   "source": [
    "R_mat = traj.rot_mat[0]\n",
    "R_est = np.random.rand(3,3)\n",
    "vel_imu = np.random.rand(3)\n",
    "p_target = np.random.rand(3)\n",
    "\n",
    "state_X = np.block([\n",
    "    [R_mat, vel_imu[:, None], p_target[:, None]],\n",
    "    [np.zeros((1, 3)), 1, 0],\n",
    "    [np.zeros((1, 3)), 0, 1]\n",
    "])\n",
    "est_X = np.block([\n",
    "    [R_est, vel_imu[:, None], p_target[:, None]],\n",
    "    [np.zeros((1, 3)), 1, 0],\n",
    "    [np.zeros((1, 3)), 0, 1]\n",
    "])"
   ]
  },
  {
   "cell_type": "code",
   "execution_count": 7,
   "metadata": {},
   "outputs": [
    {
     "ename": "ValueError",
     "evalue": "setting an array element with a sequence. The requested array has an inhomogeneous shape after 2 dimensions. The detected shape was (3, 3) + inhomogeneous part.",
     "output_type": "error",
     "traceback": [
      "\u001b[0;31m---------------------------------------------------------------------------\u001b[0m",
      "\u001b[0;31mValueError\u001b[0m                                Traceback (most recent call last)",
      "Cell \u001b[0;32mIn[7], line 1\u001b[0m\n\u001b[0;32m----> 1\u001b[0m \u001b[43mnp\u001b[49m\u001b[38;5;241;43m.\u001b[39;49m\u001b[43marray\u001b[49m\u001b[43m(\u001b[49m\u001b[43m[\u001b[49m\u001b[43mR_mat\u001b[49m\u001b[43m,\u001b[49m\u001b[43mvel_imu\u001b[49m\u001b[43m,\u001b[49m\u001b[43mp_target\u001b[49m\u001b[43m]\u001b[49m\u001b[43m)\u001b[49m\n",
      "\u001b[0;31mValueError\u001b[0m: setting an array element with a sequence. The requested array has an inhomogeneous shape after 2 dimensions. The detected shape was (3, 3) + inhomogeneous part."
     ]
    }
   ],
   "source": [
    "eta = "
   ]
  },
  {
   "cell_type": "code",
   "execution_count": null,
   "metadata": {},
   "outputs": [],
   "source": []
  }
 ],
 "metadata": {
  "kernelspec": {
   "display_name": "ENV310",
   "language": "python",
   "name": "python3"
  },
  "language_info": {
   "codemirror_mode": {
    "name": "ipython",
    "version": 3
   },
   "file_extension": ".py",
   "mimetype": "text/x-python",
   "name": "python",
   "nbconvert_exporter": "python",
   "pygments_lexer": "ipython3",
   "version": "3.10.13"
  }
 },
 "nbformat": 4,
 "nbformat_minor": 2
}
