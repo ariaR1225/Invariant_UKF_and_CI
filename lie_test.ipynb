{
 "cells": [
  {
   "cell_type": "code",
   "execution_count": 1,
   "metadata": {},
   "outputs": [
    {
     "name": "stdout",
     "output_type": "stream",
     "text": [
      "[[ 0.40004251  0.38739936  0.37475247 ...  0.4758369   0.43794173\n",
      "   0.40004259]\n",
      " [ 5.02706154  5.02904079  5.03100414 ... 15.07692441 15.07907832\n",
      "  15.08118461]\n",
      " [ 0.80008001  0.80008001  0.80008001 ...  0.80008001  0.80008001\n",
      "   0.80008001]]\n",
      "[[ 0.40004251  0.38739936  0.37475247 ...  0.4758369   0.43794173\n",
      "   0.40004259]\n",
      " [ 5.02706154  5.02904079  5.03100414 ... 15.07692441 15.07907832\n",
      "  15.08118461]\n",
      " [ 0.80008001  0.80008001  0.80008001 ...  0.80008001  0.80008001\n",
      "   0.80008001]]\n"
     ]
    },
    {
     "data": {
      "text/plain": [
       "array([10, 10, 10])"
      ]
     },
     "execution_count": 1,
     "metadata": {},
     "output_type": "execute_result"
    }
   ],
   "source": [
    "from trajectory import Trajectory\n",
    "from sensor import Sensors\n",
    "import numpy as np\n",
    "\n",
    "traj = Trajectory()\n",
    "sensors = Sensors()\n",
    "sensors.sensor_network[0].p"
   ]
  },
  {
   "cell_type": "code",
   "execution_count": 14,
   "metadata": {},
   "outputs": [
    {
     "data": {
      "text/plain": [
       "array([[0.0305225 , 0.63679967, 0.19745617, 0.49639504, 0.44980006],\n",
       "       [0.57470214, 0.52480067, 0.35082909, 0.18212018, 0.62502039],\n",
       "       [0.37014648, 0.4343361 , 0.71576438, 0.51982425, 0.89204901],\n",
       "       [0.        , 0.        , 0.        , 1.        , 0.        ],\n",
       "       [0.        , 0.        , 0.        , 0.        , 1.        ]])"
      ]
     },
     "execution_count": 14,
     "metadata": {},
     "output_type": "execute_result"
    }
   ],
   "source": [
    "R_mat = traj.rot_mat[0]\n",
    "R_est = np.random.rand(3,3)\n",
    "vel_imu = np.random.rand(3)\n",
    "p_target = np.random.rand(3)\n",
    "\n",
    "state_X = np.block([\n",
    "    [R_mat, vel_imu[:, None], p_target[:, None]],\n",
    "    [np.zeros((1, 3)), 1, 0],\n",
    "    [np.zeros((1, 3)), 0, 1]\n",
    "])\n",
    "obs_X = np.block([\n",
    "    [R_est, vel_imu[:, None], p_target[:, None]],\n",
    "    [np.zeros((1, 3)), 1, 0],\n",
    "    [np.zeros((1, 3)), 0, 1]\n",
    "])\n",
    "obs_X"
   ]
  },
  {
   "cell_type": "code",
   "execution_count": 13,
   "metadata": {},
   "outputs": [],
   "source": [
    "eta = state_X @ np.linalg.inv(est_X)"
   ]
  },
  {
   "cell_type": "code",
   "execution_count": null,
   "metadata": {},
   "outputs": [],
   "source": []
  }
 ],
 "metadata": {
  "kernelspec": {
   "display_name": "ENV310",
   "language": "python",
   "name": "python3"
  },
  "language_info": {
   "codemirror_mode": {
    "name": "ipython",
    "version": 3
   },
   "file_extension": ".py",
   "mimetype": "text/x-python",
   "name": "python",
   "nbconvert_exporter": "python",
   "pygments_lexer": "ipython3",
   "version": "3.10.13"
  }
 },
 "nbformat": 4,
 "nbformat_minor": 2
}
